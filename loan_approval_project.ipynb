{
  "nbformat": 4,
  "nbformat_minor": 0,
  "metadata": {
    "colab": {
      "provenance": [],
      "authorship_tag": "ABX9TyN18AMQBawuIP/8F45K3Yg8",
      "include_colab_link": true
    },
    "kernelspec": {
      "name": "python3",
      "display_name": "Python 3"
    },
    "language_info": {
      "name": "python"
    }
  },
  "cells": [
    {
      "cell_type": "markdown",
      "metadata": {
        "id": "view-in-github",
        "colab_type": "text"
      },
      "source": [
        "<a href=\"https://colab.research.google.com/github/sheikhmishi2001-commits/loan_approval_project/blob/main/loan_approval_project.ipynb\" target=\"_parent\"><img src=\"https://colab.research.google.com/assets/colab-badge.svg\" alt=\"Open In Colab\"/></a>"
      ]
    },
    {
      "cell_type": "code",
      "execution_count": 27,
      "metadata": {
        "id": "3CV6BSlTC_4k"
      },
      "outputs": [],
      "source": [
        "# Import Libraries\n",
        "import pandas as pd\n",
        "import numpy as np\n",
        "import matplotlib.pyplot as plt\n",
        "import seaborn as sns\n",
        "\n",
        "from sklearn.model_selection import train_test_split\n",
        "from sklearn.preprocessing import LabelEncoder\n",
        "from sklearn.metrics import classification_report, confusion_matrix, ConfusionMatrixDisplay\n",
        "from sklearn.linear_model import LogisticRegression\n",
        "from sklearn.tree import DecisionTreeClassifier\n",
        "\n",
        "from imblearn.over_sampling import SMOTE"
      ]
    },
    {
      "cell_type": "code",
      "source": [
        "# Load Dataset\n",
        "df = pd.read_csv(\"loan_approval_dataset.csv\")\n",
        "\n",
        "print(\"Dataset Shape:\", df.shape)\n",
        "print(df.head())"
      ],
      "metadata": {
        "colab": {
          "base_uri": "https://localhost:8080/"
        },
        "id": "4Lhia2nTDYLo",
        "outputId": "6da29170-9f3b-45d3-b34f-7af93ca7689d"
      },
      "execution_count": 28,
      "outputs": [
        {
          "output_type": "stream",
          "name": "stdout",
          "text": [
            "Dataset Shape: (4269, 13)\n",
            "   loan_id   no_of_dependents      education  self_employed   income_annum  \\\n",
            "0        1                  2       Graduate             No        9600000   \n",
            "1        2                  0   Not Graduate            Yes        4100000   \n",
            "2        3                  3       Graduate             No        9100000   \n",
            "3        4                  3       Graduate             No        8200000   \n",
            "4        5                  5   Not Graduate            Yes        9800000   \n",
            "\n",
            "    loan_amount   loan_term   cibil_score   residential_assets_value  \\\n",
            "0      29900000          12           778                    2400000   \n",
            "1      12200000           8           417                    2700000   \n",
            "2      29700000          20           506                    7100000   \n",
            "3      30700000           8           467                   18200000   \n",
            "4      24200000          20           382                   12400000   \n",
            "\n",
            "    commercial_assets_value   luxury_assets_value   bank_asset_value  \\\n",
            "0                  17600000              22700000            8000000   \n",
            "1                   2200000               8800000            3300000   \n",
            "2                   4500000              33300000           12800000   \n",
            "3                   3300000              23300000            7900000   \n",
            "4                   8200000              29400000            5000000   \n",
            "\n",
            "   loan_status  \n",
            "0     Approved  \n",
            "1     Rejected  \n",
            "2     Rejected  \n",
            "3     Rejected  \n",
            "4     Rejected  \n"
          ]
        }
      ]
    },
    {
      "cell_type": "code",
      "source": [
        "#Clean Column Names (remove extra spaces)\n",
        "df.columns = df.columns.str.strip()\n",
        "print(\"Cleaned Columns:\\n\", df.columns)\n"
      ],
      "metadata": {
        "colab": {
          "base_uri": "https://localhost:8080/"
        },
        "id": "MrHYKSafG70E",
        "outputId": "141ae9c5-d685-41c5-c265-be89cd333a04"
      },
      "execution_count": 29,
      "outputs": [
        {
          "output_type": "stream",
          "name": "stdout",
          "text": [
            "Cleaned Columns:\n",
            " Index(['loan_id', 'no_of_dependents', 'education', 'self_employed',\n",
            "       'income_annum', 'loan_amount', 'loan_term', 'cibil_score',\n",
            "       'residential_assets_value', 'commercial_assets_value',\n",
            "       'luxury_assets_value', 'bank_asset_value', 'loan_status'],\n",
            "      dtype='object')\n"
          ]
        }
      ]
    },
    {
      "cell_type": "code",
      "source": [
        "#Check Missing Values\n",
        "print(\"\\nMissing Values:\\n\", df.isnull().sum())\n"
      ],
      "metadata": {
        "colab": {
          "base_uri": "https://localhost:8080/"
        },
        "id": "OnV9e_kpDg-j",
        "outputId": "68643004-eb29-42fe-8bb2-df2fbb45c7e0"
      },
      "execution_count": 30,
      "outputs": [
        {
          "output_type": "stream",
          "name": "stdout",
          "text": [
            "\n",
            "Missing Values:\n",
            " loan_id                     0\n",
            "no_of_dependents            0\n",
            "education                   0\n",
            "self_employed               0\n",
            "income_annum                0\n",
            "loan_amount                 0\n",
            "loan_term                   0\n",
            "cibil_score                 0\n",
            "residential_assets_value    0\n",
            "commercial_assets_value     0\n",
            "luxury_assets_value         0\n",
            "bank_asset_value            0\n",
            "loan_status                 0\n",
            "dtype: int64\n"
          ]
        }
      ]
    },
    {
      "cell_type": "code",
      "source": [
        "# Fill missing values (numerical → median, categorical → mode)\n",
        "for col in df.columns:\n",
        "    if df[col].dtype == \"object\":\n",
        "        df[col].fillna(df[col].mode()[0], inplace=True)\n",
        "    else:\n",
        "        df[col].fillna(df[col].median(), inplace=True)\n",
        "print(\"\\nMissing Values After Filling:\\n\", df.isnull().sum())"
      ],
      "metadata": {
        "colab": {
          "base_uri": "https://localhost:8080/"
        },
        "id": "Pn9e20piDkQG",
        "outputId": "b2183394-836f-40e9-b3ab-10144b755ecd"
      },
      "execution_count": 31,
      "outputs": [
        {
          "output_type": "stream",
          "name": "stdout",
          "text": [
            "\n",
            "Missing Values After Filling:\n",
            " loan_id                     0\n",
            "no_of_dependents            0\n",
            "education                   0\n",
            "self_employed               0\n",
            "income_annum                0\n",
            "loan_amount                 0\n",
            "loan_term                   0\n",
            "cibil_score                 0\n",
            "residential_assets_value    0\n",
            "commercial_assets_value     0\n",
            "luxury_assets_value         0\n",
            "bank_asset_value            0\n",
            "loan_status                 0\n",
            "dtype: int64\n"
          ]
        },
        {
          "output_type": "stream",
          "name": "stderr",
          "text": [
            "/tmp/ipython-input-971584871.py:6: FutureWarning: A value is trying to be set on a copy of a DataFrame or Series through chained assignment using an inplace method.\n",
            "The behavior will change in pandas 3.0. This inplace method will never work because the intermediate object on which we are setting values always behaves as a copy.\n",
            "\n",
            "For example, when doing 'df[col].method(value, inplace=True)', try using 'df.method({col: value}, inplace=True)' or df[col] = df[col].method(value) instead, to perform the operation inplace on the original object.\n",
            "\n",
            "\n",
            "  df[col].fillna(df[col].median(), inplace=True)\n",
            "/tmp/ipython-input-971584871.py:4: FutureWarning: A value is trying to be set on a copy of a DataFrame or Series through chained assignment using an inplace method.\n",
            "The behavior will change in pandas 3.0. This inplace method will never work because the intermediate object on which we are setting values always behaves as a copy.\n",
            "\n",
            "For example, when doing 'df[col].method(value, inplace=True)', try using 'df.method({col: value}, inplace=True)' or df[col] = df[col].method(value) instead, to perform the operation inplace on the original object.\n",
            "\n",
            "\n",
            "  df[col].fillna(df[col].mode()[0], inplace=True)\n"
          ]
        }
      ]
    },
    {
      "cell_type": "code",
      "source": [
        "# Encode Categorical Variables\n",
        "label_enc = LabelEncoder()\n",
        "for col in df.select_dtypes(include=['object']).columns:\n",
        "    df[col] = label_enc.fit_transform(df[col])"
      ],
      "metadata": {
        "id": "V8PYVW6oDtGI"
      },
      "execution_count": 32,
      "outputs": []
    },
    {
      "cell_type": "code",
      "source": [
        "print(\"Columns in dataset:\\n\", df.columns)\n"
      ],
      "metadata": {
        "colab": {
          "base_uri": "https://localhost:8080/"
        },
        "id": "U7_-1qrSGp5x",
        "outputId": "69992e1b-8803-44fb-f960-a1552508be7a"
      },
      "execution_count": 33,
      "outputs": [
        {
          "output_type": "stream",
          "name": "stdout",
          "text": [
            "Columns in dataset:\n",
            " Index(['loan_id', 'no_of_dependents', 'education', 'self_employed',\n",
            "       'income_annum', 'loan_amount', 'loan_term', 'cibil_score',\n",
            "       'residential_assets_value', 'commercial_assets_value',\n",
            "       'luxury_assets_value', 'bank_asset_value', 'loan_status'],\n",
            "      dtype='object')\n"
          ]
        }
      ]
    },
    {
      "cell_type": "code",
      "source": [
        "#  Features & Target\n",
        "# (Assuming target column is \"Loan_Status\" → adjust if named differently)\n",
        "X = df.drop(\"loan_status\", axis=1)\n",
        "y = df[\"loan_status\"]\n",
        "print(\"Features Shape:\", X.shape)\n",
        "print(\"Target Shape:\", y.shape)"
      ],
      "metadata": {
        "colab": {
          "base_uri": "https://localhost:8080/"
        },
        "id": "k1SUW_fKDyEP",
        "outputId": "d3b4e447-1554-4bb9-bc9c-7294744f340b"
      },
      "execution_count": 34,
      "outputs": [
        {
          "output_type": "stream",
          "name": "stdout",
          "text": [
            "Features Shape: (4269, 12)\n",
            "Target Shape: (4269,)\n"
          ]
        }
      ]
    },
    {
      "cell_type": "code",
      "source": [
        "# Train-Test Split\n",
        "X_train, X_test, y_train, y_test = train_test_split(\n",
        "    X, y, test_size=0.2, random_state=42, stratify=y\n",
        ")\n",
        "\n",
        "print(\"\\nClass distribution before SMOTE:\\n\", y_train.value_counts())"
      ],
      "metadata": {
        "colab": {
          "base_uri": "https://localhost:8080/"
        },
        "id": "XqK-LhAxD3Q4",
        "outputId": "823c832e-28c1-4f2d-abf6-5f1ec8a624a0"
      },
      "execution_count": 35,
      "outputs": [
        {
          "output_type": "stream",
          "name": "stdout",
          "text": [
            "\n",
            "Class distribution before SMOTE:\n",
            " loan_status\n",
            "0    2125\n",
            "1    1290\n",
            "Name: count, dtype: int64\n"
          ]
        }
      ]
    },
    {
      "cell_type": "code",
      "source": [
        "# Handle Class Imbalance (SMOTE)\n",
        "smote = SMOTE(random_state=42)\n",
        "X_train_res, y_train_res = smote.fit_resample(X_train, y_train)"
      ],
      "metadata": {
        "id": "QkWf11GAHH4f"
      },
      "execution_count": 36,
      "outputs": []
    },
    {
      "cell_type": "code",
      "source": [
        "# Train Models\n",
        "# Logistic Regression\n",
        "log_reg = LogisticRegression(max_iter=1000)\n",
        "log_reg.fit(X_train_res, y_train_res)\n",
        "y_pred_log = log_reg.predict(X_test)"
      ],
      "metadata": {
        "id": "a6sz2CZvHYpT"
      },
      "execution_count": 37,
      "outputs": []
    },
    {
      "cell_type": "code",
      "source": [
        "# Decision Tree\n",
        "dtree = DecisionTreeClassifier(random_state=42)\n",
        "dtree.fit(X_train_res, y_train_res)\n",
        "y_pred_tree = dtree.predict(X_test)"
      ],
      "metadata": {
        "id": "ZlVFq8cyHb7c"
      },
      "execution_count": 38,
      "outputs": []
    },
    {
      "cell_type": "code",
      "source": [
        "# Evaluation\n",
        "print(\"\\n=== Logistic Regression Report ===\\n\")\n",
        "print(classification_report(y_test, y_pred_log))\n",
        "\n",
        "print(\"\\n=== Decision Tree Report ===\\n\")\n",
        "print(classification_report(y_test, y_pred_tree))"
      ],
      "metadata": {
        "colab": {
          "base_uri": "https://localhost:8080/"
        },
        "id": "QyHxHj80HfFc",
        "outputId": "0b60f04c-d42c-492c-98e1-11c8dad79f5f"
      },
      "execution_count": 39,
      "outputs": [
        {
          "output_type": "stream",
          "name": "stdout",
          "text": [
            "\n",
            "=== Logistic Regression Report ===\n",
            "\n",
            "              precision    recall  f1-score   support\n",
            "\n",
            "           0       0.84      0.86      0.85       531\n",
            "           1       0.76      0.73      0.75       323\n",
            "\n",
            "    accuracy                           0.81       854\n",
            "   macro avg       0.80      0.80      0.80       854\n",
            "weighted avg       0.81      0.81      0.81       854\n",
            "\n",
            "\n",
            "=== Decision Tree Report ===\n",
            "\n",
            "              precision    recall  f1-score   support\n",
            "\n",
            "           0       0.98      0.98      0.98       531\n",
            "           1       0.98      0.97      0.97       323\n",
            "\n",
            "    accuracy                           0.98       854\n",
            "   macro avg       0.98      0.98      0.98       854\n",
            "weighted avg       0.98      0.98      0.98       854\n",
            "\n"
          ]
        }
      ]
    },
    {
      "cell_type": "code",
      "source": [
        "# Confusion Matrix Visualization\n",
        "fig, axes = plt.subplots(1, 2, figsize=(12, 5))\n",
        "ConfusionMatrixDisplay.from_predictions(y_test, y_pred_log, ax=axes[0], cmap=\"Blues\")\n",
        "axes[0].set_title(\"Logistic Regression Confusion Matrix\")\n",
        "\n",
        "ConfusionMatrixDisplay.from_predictions(y_test, y_pred_tree, ax=axes[1], cmap=\"Greens\")\n",
        "axes[1].set_title(\"Decision Tree Confusion Matrix\")\n",
        "\n",
        "plt.show()\n"
      ],
      "metadata": {
        "colab": {
          "base_uri": "https://localhost:8080/",
          "height": 441
        },
        "id": "fTKNEI99HlHs",
        "outputId": "6b7ebceb-511e-4d0b-e6db-fb8b74d3faed"
      },
      "execution_count": 40,
      "outputs": [
        {
          "output_type": "display_data",
          "data": {
            "text/plain": [
              "<Figure size 1200x500 with 4 Axes>"
            ],
            "image/png": "[encoded data removed]"
          },
          "metadata": {}
        }
      ]
    },
    {
      "cell_type": "code",
      "source": [
        "#  Feature Importance (Decision Tree)\n",
        "feat_importances = pd.Series(dtree.feature_importances_, index=X.columns)\n",
        "feat_importances.nlargest(10).plot(kind='barh', color=\"teal\")\n",
        "plt.title(\"Top 10 Important Features - Decision Tree\")\n",
        "plt.show()\n",
        "\n",
        "print(\"\\n✅ Project Completed Successfully!\")"
      ],
      "metadata": {
        "colab": {
          "base_uri": "https://localhost:8080/",
          "height": 488
        },
        "id": "OdxQ5EJYHoh5",
        "outputId": "d4ecda65-072b-494c-952b-6997d86e6746"
      },
      "execution_count": 41,
      "outputs": [
        {
          "output_type": "display_data",
          "data": {
            "text/plain": [
              "<Figure size 640x480 with 1 Axes>"
            ],
            "image/png": "[encoded data removed]"
          },
          "metadata": {}
        },
        {
          "output_type": "stream",
          "name": "stdout",
          "text": [
            "\n",
            "✅ Project Completed Successfully!\n"
          ]
        }
      ]
    }
  ]
}